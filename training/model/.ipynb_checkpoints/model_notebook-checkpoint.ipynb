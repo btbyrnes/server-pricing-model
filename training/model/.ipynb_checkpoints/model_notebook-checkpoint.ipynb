{
 "cells": [
  {
   "cell_type": "code",
   "execution_count": 1,
   "metadata": {},
   "outputs": [],
   "source": [
    "import pandas as pd\n",
    "import numpy as np\n",
    "from sklearn import linear_model\n",
    "import matplotlib.pyplot as plt\n",
    "import sklearn.metrics as metrics\n",
    "\n",
    "# base python library import\n",
    "import pickle\n",
    "import os\n",
    "\n",
    "# Determine directory paths\n",
    "\n",
    "data_dir = os.path.join(os.path.dirname(os.getcwd()),'data')\n",
    "model_dir = '/home/jovyan/work/deployment/app'\n",
    "\n",
    "data_path = os.path.join(data_dir,'Dell Server Prices - Sheet1.csv')"
   ]
  },
  {
   "cell_type": "code",
   "execution_count": 2,
   "metadata": {},
   "outputs": [
    {
     "data": {
      "text/html": [
       "<div>\n",
       "<style scoped>\n",
       "    .dataframe tbody tr th:only-of-type {\n",
       "        vertical-align: middle;\n",
       "    }\n",
       "\n",
       "    .dataframe tbody tr th {\n",
       "        vertical-align: top;\n",
       "    }\n",
       "\n",
       "    .dataframe thead th {\n",
       "        text-align: right;\n",
       "    }\n",
       "</style>\n",
       "<table border=\"1\" class=\"dataframe\">\n",
       "  <thead>\n",
       "    <tr style=\"text-align: right;\">\n",
       "      <th></th>\n",
       "      <th>Obs</th>\n",
       "      <th>Model</th>\n",
       "      <th>Cost</th>\n",
       "      <th>Processor Count</th>\n",
       "      <th>Speed (GHz)</th>\n",
       "      <th>Cores per Processor</th>\n",
       "      <th>RAM (GB)</th>\n",
       "      <th>HD Count</th>\n",
       "      <th>HD Size (GB)</th>\n",
       "      <th>Total Cores</th>\n",
       "      <th>Total Storage</th>\n",
       "      <th>Predicted Price</th>\n",
       "    </tr>\n",
       "  </thead>\n",
       "  <tbody>\n",
       "    <tr>\n",
       "      <th>0</th>\n",
       "      <td>1</td>\n",
       "      <td>R620</td>\n",
       "      <td>234.99</td>\n",
       "      <td>2</td>\n",
       "      <td>2.60</td>\n",
       "      <td>6</td>\n",
       "      <td>32</td>\n",
       "      <td>2</td>\n",
       "      <td>450.0</td>\n",
       "      <td>12</td>\n",
       "      <td>900</td>\n",
       "      <td>NaN</td>\n",
       "    </tr>\n",
       "    <tr>\n",
       "      <th>1</th>\n",
       "      <td>2</td>\n",
       "      <td>R410</td>\n",
       "      <td>173.95</td>\n",
       "      <td>2</td>\n",
       "      <td>2.26</td>\n",
       "      <td>4</td>\n",
       "      <td>16</td>\n",
       "      <td>2</td>\n",
       "      <td>2000.0</td>\n",
       "      <td>8</td>\n",
       "      <td>4000</td>\n",
       "      <td>NaN</td>\n",
       "    </tr>\n",
       "    <tr>\n",
       "      <th>2</th>\n",
       "      <td>3</td>\n",
       "      <td>R410</td>\n",
       "      <td>124.16</td>\n",
       "      <td>2</td>\n",
       "      <td>2.66</td>\n",
       "      <td>4</td>\n",
       "      <td>24</td>\n",
       "      <td>2</td>\n",
       "      <td>146.0</td>\n",
       "      <td>8</td>\n",
       "      <td>292</td>\n",
       "      <td>NaN</td>\n",
       "    </tr>\n",
       "    <tr>\n",
       "      <th>3</th>\n",
       "      <td>4</td>\n",
       "      <td>R720</td>\n",
       "      <td>320.95</td>\n",
       "      <td>2</td>\n",
       "      <td>2.30</td>\n",
       "      <td>6</td>\n",
       "      <td>16</td>\n",
       "      <td>0</td>\n",
       "      <td>0.0</td>\n",
       "      <td>12</td>\n",
       "      <td>0</td>\n",
       "      <td>NaN</td>\n",
       "    </tr>\n",
       "    <tr>\n",
       "      <th>4</th>\n",
       "      <td>5</td>\n",
       "      <td>R710</td>\n",
       "      <td>353.56</td>\n",
       "      <td>2</td>\n",
       "      <td>3.06</td>\n",
       "      <td>6</td>\n",
       "      <td>128</td>\n",
       "      <td>0</td>\n",
       "      <td>0.0</td>\n",
       "      <td>12</td>\n",
       "      <td>0</td>\n",
       "      <td>NaN</td>\n",
       "    </tr>\n",
       "  </tbody>\n",
       "</table>\n",
       "</div>"
      ],
      "text/plain": [
       "   Obs Model    Cost  Processor Count  Speed (GHz)  Cores per Processor  \\\n",
       "0    1  R620  234.99                2         2.60                    6   \n",
       "1    2  R410  173.95                2         2.26                    4   \n",
       "2    3  R410  124.16                2         2.66                    4   \n",
       "3    4  R720  320.95                2         2.30                    6   \n",
       "4    5  R710  353.56                2         3.06                    6   \n",
       "\n",
       "   RAM (GB)  HD Count  HD Size (GB)  Total Cores  Total Storage  \\\n",
       "0        32         2         450.0           12            900   \n",
       "1        16         2        2000.0            8           4000   \n",
       "2        24         2         146.0            8            292   \n",
       "3        16         0           0.0           12              0   \n",
       "4       128         0           0.0           12              0   \n",
       "\n",
       "   Predicted Price  \n",
       "0              NaN  \n",
       "1              NaN  \n",
       "2              NaN  \n",
       "3              NaN  \n",
       "4              NaN  "
      ]
     },
     "execution_count": 2,
     "metadata": {},
     "output_type": "execute_result"
    }
   ],
   "source": [
    "# Read data\n",
    "data = pd.read_csv(data_path)\n",
    "data.head()"
   ]
  },
  {
   "cell_type": "code",
   "execution_count": 3,
   "metadata": {},
   "outputs": [],
   "source": [
    "# Features and target names\n",
    "features_list = ['Speed (GHz)','Total Cores','Total Storage','RAM (GB)']\n",
    "target_list = ['Cost']"
   ]
  },
  {
   "cell_type": "code",
   "execution_count": 4,
   "metadata": {},
   "outputs": [],
   "source": [
    "# Arrays for y, X\n",
    "y = data[target_list].to_numpy()\n",
    "X = data[features_list].to_numpy()"
   ]
  },
  {
   "cell_type": "code",
   "execution_count": 5,
   "metadata": {},
   "outputs": [
    {
     "data": {
      "text/plain": [
       "array([[2.600e+00, 1.200e+01, 9.000e+02, 3.200e+01],\n",
       "       [2.260e+00, 8.000e+00, 4.000e+03, 1.600e+01],\n",
       "       [2.660e+00, 8.000e+00, 2.920e+02, 2.400e+01],\n",
       "       [2.300e+00, 1.200e+01, 0.000e+00, 1.600e+01],\n",
       "       [3.060e+00, 1.200e+01, 0.000e+00, 1.280e+02],\n",
       "       [2.660e+00, 4.000e+00, 2.000e+03, 1.600e+01],\n",
       "       [2.660e+00, 1.200e+01, 1.800e+03, 3.200e+01],\n",
       "       [2.330e+00, 4.000e+00, 8.760e+02, 2.400e+01],\n",
       "       [2.200e+00, 1.200e+01, 5.000e+02, 4.800e+01],\n",
       "       [2.200e+00, 1.200e+01, 8.000e+03, 2.400e+01],\n",
       "       [2.200e+00, 1.600e+01, 2.400e+03, 1.280e+02],\n",
       "       [2.000e+00, 1.200e+01, 6.000e+03, 3.200e+01],\n",
       "       [2.930e+00, 1.200e+01, 2.000e+03, 6.400e+01],\n",
       "       [2.000e+00, 1.200e+01, 0.000e+00, 3.200e+01],\n",
       "       [2.400e+00, 1.200e+01, 2.000e+03, 6.400e+01],\n",
       "       [2.400e+00, 1.200e+01, 6.000e+02, 3.200e+01],\n",
       "       [2.500e+00, 1.200e+01, 1.200e+03, 3.200e+01],\n",
       "       [2.300e+00, 1.200e+01, 0.000e+00, 3.200e+01],\n",
       "       [2.660e+00, 1.200e+01, 0.000e+00, 3.200e+01],\n",
       "       [2.930e+00, 1.200e+01, 2.000e+03, 6.400e+01],\n",
       "       [2.000e+00, 1.200e+01, 0.000e+00, 6.400e+01],\n",
       "       [2.000e+00, 1.200e+01, 0.000e+00, 3.200e+01],\n",
       "       [2.000e+00, 1.600e+01, 1.800e+03, 6.400e+01],\n",
       "       [2.400e+00, 1.200e+01, 1.000e+03, 3.200e+01],\n",
       "       [2.930e+00, 8.000e+00, 0.000e+00, 6.400e+01],\n",
       "       [2.000e+00, 1.200e+01, 0.000e+00, 1.280e+02],\n",
       "       [2.000e+00, 1.200e+01, 5.840e+02, 3.200e+01],\n",
       "       [2.400e+00, 8.000e+00, 5.840e+02, 9.600e+01],\n",
       "       [2.000e+00, 1.600e+01, 0.000e+00, 2.400e+01],\n",
       "       [2.800e+00, 8.000e+00, 0.000e+00, 1.600e+01],\n",
       "       [2.400e+00, 8.000e+00, 4.800e+03, 3.200e+01],\n",
       "       [2.600e+00, 8.000e+00, 2.692e+03, 4.800e+01],\n",
       "       [2.500e+00, 1.200e+01, 0.000e+00, 1.600e+01],\n",
       "       [2.000e+00, 1.200e+01, 0.000e+00, 1.280e+02],\n",
       "       [2.800e+00, 1.200e+01, 2.400e+03, 1.280e+02],\n",
       "       [2.000e+00, 1.600e+01, 0.000e+00, 6.400e+01],\n",
       "       [2.000e+00, 1.600e+01, 3.600e+03, 1.280e+02],\n",
       "       [2.000e+00, 1.200e+01, 0.000e+00, 9.600e+01],\n",
       "       [2.900e+00, 1.600e+01, 2.400e+03, 8.000e+00],\n",
       "       [2.800e+00, 1.600e+01, 0.000e+00, 6.400e+01],\n",
       "       [2.400e+00, 1.600e+01, 4.800e+03, 6.400e+01],\n",
       "       [2.600e+00, 1.600e+01, 2.692e+03, 3.200e+01],\n",
       "       [2.000e+00, 1.200e+01, 5.840e+02, 3.200e+01],\n",
       "       [2.800e+00, 1.200e+01, 2.400e+03, 1.600e+01],\n",
       "       [2.000e+00, 1.200e+01, 0.000e+00, 1.600e+01],\n",
       "       [2.600e+00, 1.600e+01, 2.400e+03, 1.600e+01],\n",
       "       [2.900e+00, 1.600e+01, 0.000e+00, 6.400e+01],\n",
       "       [2.000e+00, 1.200e+01, 0.000e+00, 6.400e+01],\n",
       "       [2.000e+00, 1.200e+01, 0.000e+00, 3.200e+01],\n",
       "       [2.400e+00, 4.000e+00, 2.000e+03, 6.400e+01],\n",
       "       [2.300e+00, 1.200e+01, 0.000e+00, 1.600e+01],\n",
       "       [2.260e+00, 8.000e+00, 2.000e+03, 1.600e+01],\n",
       "       [2.600e+00, 1.200e+01, 9.000e+02, 6.400e+01],\n",
       "       [2.400e+00, 8.000e+00, 0.000e+00, 3.200e+01],\n",
       "       [2.000e+00, 1.600e+01, 0.000e+00, 3.200e+01],\n",
       "       [3.400e+00, 8.000e+00, 1.000e+03, 8.000e+00],\n",
       "       [2.130e+00, 8.000e+00, 0.000e+00, 8.000e+00],\n",
       "       [1.800e+00, 4.000e+00, 6.000e+02, 2.400e+01],\n",
       "       [2.000e+00, 1.200e+01, 0.000e+00, 3.200e+01],\n",
       "       [2.000e+00, 8.000e+00, 0.000e+00, 8.000e+00],\n",
       "       [2.700e+00, 1.600e+01, 1.200e+03, 6.400e+01],\n",
       "       [2.400e+00, 8.000e+00, 0.000e+00, 3.200e+01],\n",
       "       [2.000e+00, 1.200e+01, 0.000e+00, 6.400e+01],\n",
       "       [2.600e+00, 1.200e+01, 9.000e+02, 1.280e+02],\n",
       "       [3.000e+00, 4.000e+00, 0.000e+00, 4.000e+00],\n",
       "       [1.800e+00, 8.000e+00, 0.000e+00, 1.600e+01],\n",
       "       [2.600e+00, 1.200e+01, 2.000e+03, 3.200e+01],\n",
       "       [3.060e+00, 1.200e+01, 0.000e+00, 6.400e+01],\n",
       "       [2.660e+00, 1.200e+01, 0.000e+00, 6.400e+01],\n",
       "       [3.000e+00, 2.000e+01, 1.800e+03, 6.400e+01],\n",
       "       [2.500e+00, 1.200e+01, 0.000e+00, 6.400e+01],\n",
       "       [3.000e+00, 2.000e+01, 4.000e+03, 6.400e+01]])"
      ]
     },
     "execution_count": 5,
     "metadata": {},
     "output_type": "execute_result"
    }
   ],
   "source": [
    "X"
   ]
  },
  {
   "cell_type": "code",
   "execution_count": 6,
   "metadata": {},
   "outputs": [],
   "source": [
    "# Fit linear model\n",
    "\n",
    "model = linear_model.LinearRegression()\n",
    "model.fit(X,y)\n",
    "predicted = model.predict(X)"
   ]
  },
  {
   "cell_type": "code",
   "execution_count": 7,
   "metadata": {},
   "outputs": [
    {
     "name": "stdout",
     "output_type": "stream",
     "text": [
      "R^2                : 0.567600\n",
      "MSE                : 10488.042540\n",
      "sqrt(MSE)          : 102.411145\n"
     ]
    },
    {
     "data": {
      "text/plain": [
       "[<matplotlib.lines.Line2D at 0x7fb25a732730>]"
      ]
     },
     "execution_count": 7,
     "metadata": {},
     "output_type": "execute_result"
    },
    {
     "data": {
      "image/png": "[encoded data removed]",
      "text/plain": [
       "<Figure size 432x288 with 1 Axes>"
      ]
     },
     "metadata": {
      "needs_background": "light"
     },
     "output_type": "display_data"
    }
   ],
   "source": [
    "# Diagnostics\n",
    "\n",
    "print('R^2                : %f' % metrics.r2_score(y_true = y, y_pred = predicted))\n",
    "print('MSE                : %f' % metrics.mean_squared_error(y_true = y, y_pred = predicted))\n",
    "print('sqrt(MSE)          : %f' % np.sqrt(metrics.mean_squared_error(y_true = y, y_pred = predicted)))\n",
    "\n",
    "y_min = predicted.min()\n",
    "\n",
    "if y.min() < y_min:\n",
    "    y_min = y.min()\n",
    "    \n",
    "y_max = predicted.max()\n",
    "if y.max() > y_max:\n",
    "    y_max = y.max()\n",
    "\n",
    "plt.scatter(x=y,y=predicted)\n",
    "plt.xlabel('Listed Price')\n",
    "plt.ylabel('Predicted Price')\n",
    "plt.plot([y_min,y_max],[y_min,y_max],linewidth = '2', linestyle='dotted')"
   ]
  },
  {
   "cell_type": "code",
   "execution_count": 8,
   "metadata": {},
   "outputs": [],
   "source": [
    "# Save model to disk\n",
    "\n",
    "model_file = os.path.join(model_dir,'model.pkl')\n",
    "\n",
    "with open(model_file,'wb') as f:\n",
    "    pickle.dump(model,f)"
   ]
  },
  {
   "cell_type": "code",
   "execution_count": 9,
   "metadata": {},
   "outputs": [],
   "source": [
    "with open(model_file,'rb') as f:\n",
    "    model_saved = pickle.load(f)"
   ]
  },
  {
   "cell_type": "code",
   "execution_count": 10,
   "metadata": {},
   "outputs": [
    {
     "data": {
      "text/plain": [
       "array([[0.],\n",
       "       [0.],\n",
       "       [0.],\n",
       "       [0.],\n",
       "       [0.],\n",
       "       [0.],\n",
       "       [0.],\n",
       "       [0.],\n",
       "       [0.],\n",
       "       [0.],\n",
       "       [0.],\n",
       "       [0.],\n",
       "       [0.],\n",
       "       [0.],\n",
       "       [0.],\n",
       "       [0.],\n",
       "       [0.],\n",
       "       [0.],\n",
       "       [0.],\n",
       "       [0.],\n",
       "       [0.],\n",
       "       [0.],\n",
       "       [0.],\n",
       "       [0.],\n",
       "       [0.],\n",
       "       [0.],\n",
       "       [0.],\n",
       "       [0.],\n",
       "       [0.],\n",
       "       [0.],\n",
       "       [0.],\n",
       "       [0.],\n",
       "       [0.],\n",
       "       [0.],\n",
       "       [0.],\n",
       "       [0.],\n",
       "       [0.],\n",
       "       [0.],\n",
       "       [0.],\n",
       "       [0.],\n",
       "       [0.],\n",
       "       [0.],\n",
       "       [0.],\n",
       "       [0.],\n",
       "       [0.],\n",
       "       [0.],\n",
       "       [0.],\n",
       "       [0.],\n",
       "       [0.],\n",
       "       [0.],\n",
       "       [0.],\n",
       "       [0.],\n",
       "       [0.],\n",
       "       [0.],\n",
       "       [0.],\n",
       "       [0.],\n",
       "       [0.],\n",
       "       [0.],\n",
       "       [0.],\n",
       "       [0.],\n",
       "       [0.],\n",
       "       [0.],\n",
       "       [0.],\n",
       "       [0.],\n",
       "       [0.],\n",
       "       [0.],\n",
       "       [0.],\n",
       "       [0.],\n",
       "       [0.],\n",
       "       [0.],\n",
       "       [0.],\n",
       "       [0.]])"
      ]
     },
     "execution_count": 10,
     "metadata": {},
     "output_type": "execute_result"
    }
   ],
   "source": [
    "# Check model saved correctly\n",
    "\n",
    "model_saved.predict(X) - predicted"
   ]
  },
  {
   "cell_type": "code",
   "execution_count": 11,
   "metadata": {},
   "outputs": [
    {
     "data": {
      "text/plain": [
       "(numpy.ndarray, (4,), array([  2.6,  12. , 900. ,  32. ]))"
      ]
     },
     "execution_count": 11,
     "metadata": {},
     "output_type": "execute_result"
    }
   ],
   "source": [
    "type(X[0]), X[0].shape, X[0]\n"
   ]
  },
  {
   "cell_type": "code",
   "execution_count": 12,
   "metadata": {},
   "outputs": [
    {
     "data": {
      "text/plain": [
       "(numpy.ndarray,\n",
       " (1, 4),\n",
       " array([[  2.6,  12. , 240. ,  64. ]]),\n",
       " array([[361.75595246]]))"
      ]
     },
     "execution_count": 12,
     "metadata": {},
     "output_type": "execute_result"
    }
   ],
   "source": [
    "# API Call Testing\n",
    "\n",
    "x1 = float('2.60') #speed\n",
    "x2 = float('12') #cores\n",
    "x3 = float('240') #storage\n",
    "x4 = float('64') #ram\n",
    "\n",
    "x = np.array([x1,x2,x3,x4]).reshape(1,-1)\n",
    "type(x), x.shape, x, model_saved.predict(x)"
   ]
  },
  {
   "cell_type": "code",
   "execution_count": 13,
   "metadata": {},
   "outputs": [
    {
     "data": {
      "text/plain": [
       "array([[234.99],\n",
       "       [173.95],\n",
       "       [124.16],\n",
       "       [320.95],\n",
       "       [353.56],\n",
       "       [159.99],\n",
       "       [314.95],\n",
       "       [140.22],\n",
       "       [238.16],\n",
       "       [299.99],\n",
       "       [415.31],\n",
       "       [239.99],\n",
       "       [354.95],\n",
       "       [199.99],\n",
       "       [315.99],\n",
       "       [310.95],\n",
       "       [397.55],\n",
       "       [370.95],\n",
       "       [266.95],\n",
       "       [354.95],\n",
       "       [249.99],\n",
       "       [239.99],\n",
       "       [349.99],\n",
       "       [283.95],\n",
       "       [280.95],\n",
       "       [369.99],\n",
       "       [325.81],\n",
       "       [468.93],\n",
       "       [279.99],\n",
       "       [136.03],\n",
       "       [690.2 ],\n",
       "       [637.42],\n",
       "       [355.95],\n",
       "       [359.99],\n",
       "       [445.95],\n",
       "       [369.99],\n",
       "       [519.99],\n",
       "       [372.51],\n",
       "       [506.49],\n",
       "       [639.99],\n",
       "       [676.61],\n",
       "       [620.17],\n",
       "       [325.81],\n",
       "       [285.95],\n",
       "       [189.99],\n",
       "       [386.96],\n",
       "       [599.  ],\n",
       "       [499.  ],\n",
       "       [199.99],\n",
       "       [330.  ],\n",
       "       [304.95],\n",
       "       [173.95],\n",
       "       [289.99],\n",
       "       [129.99],\n",
       "       [319.99],\n",
       "       [211.96],\n",
       "       [100.47],\n",
       "       [149.99],\n",
       "       [269.99],\n",
       "       [135.  ],\n",
       "       [449.99],\n",
       "       [255.95],\n",
       "       [369.99],\n",
       "       [369.99],\n",
       "       [115.  ],\n",
       "       [204.8 ],\n",
       "       [399.99],\n",
       "       [292.53],\n",
       "       [326.95],\n",
       "       [739.99],\n",
       "       [464.95],\n",
       "       [819.99]])"
      ]
     },
     "execution_count": 13,
     "metadata": {},
     "output_type": "execute_result"
    }
   ],
   "source": [
    "y"
   ]
  },
  {
   "cell_type": "code",
   "execution_count": 14,
   "metadata": {},
   "outputs": [
    {
     "data": {
      "text/plain": [
       "361.755952464189"
      ]
     },
     "execution_count": 14,
     "metadata": {},
     "output_type": "execute_result"
    }
   ],
   "source": [
    "model_saved.predict(x).item(0)"
   ]
  },
  {
   "cell_type": "code",
   "execution_count": null,
   "metadata": {},
   "outputs": [],
   "source": []
  }
 ],
 "metadata": {
  "kernelspec": {
   "display_name": "Python 3",
   "language": "python",
   "name": "python3"
  },
  "language_info": {
   "codemirror_mode": {
    "name": "ipython",
    "version": 3
   },
   "file_extension": ".py",
   "mimetype": "text/x-python",
   "name": "python",
   "nbconvert_exporter": "python",
   "pygments_lexer": "ipython3",
   "version": "3.8.5"
  }
 },
 "nbformat": 4,
 "nbformat_minor": 4
}
